{
 "cells": [
  {
   "cell_type": "code",
   "execution_count": 7,
   "source": [
    "from splinter import Browser\n",
    "from bs4 import BeautifulSoup as soup\n",
    "from webdriver_manager.chrome import ChromeDriverManager"
   ],
   "outputs": [],
   "metadata": {}
  },
  {
   "cell_type": "code",
   "execution_count": 2,
   "source": [
    "executable_path = {'executable_path': ChromeDriverManager().install()}\n",
    "browser = Browser('chrome', **executable_path, headless=False)"
   ],
   "outputs": [
    {
     "output_type": "stream",
     "name": "stderr",
     "text": [
      "\n",
      "\n",
      "====== WebDriver manager ======\n",
      "Current google-chrome version is 92.0.4515\n",
      "Get LATEST driver version for 92.0.4515\n",
      "Driver [/Users/pazilatn/.wdm/drivers/chromedriver/mac64/92.0.4515.107/chromedriver] found in cache\n"
     ]
    }
   ],
   "metadata": {}
  },
  {
   "cell_type": "code",
   "execution_count": 3,
   "source": [
    "url = 'https://astrogeology.usgs.gov/search/results?q=hemisphere+enhanced&k1=target&v1=Mars'\n",
    "browser.visit(url)\n",
    "# Optional delay for loading the page\n",
    "browser.is_element_present_by_css('div.list_text', wait_time=1)\n",
    "html=browser.html\n",
    "img_soup= soup(html, \"html.parser\")"
   ],
   "outputs": [],
   "metadata": {}
  },
  {
   "cell_type": "code",
   "execution_count": 8,
   "source": [
    "tag_box=img_soup.find('div', class_='collapsible results')\n",
    "# print(tag_box)\n",
    "tags=tag_box.find_all('div', class_='item')\n",
    "# print(tags)\n",
    "full_url_list=[]\n",
    "hemispheres_images_urls=[]\n",
    "for tag in tags:\n",
    "    img_url=tag.find('a', class_=\"itemLink product-item\").get('href')\n",
    "    full_url_list.append(f'https://astrogeology.usgs.gov/{img_url}')\n",
    "# print(full_url_list)\n",
    "\n",
    "for url in full_url_list:\n",
    "    hemispheres = {}\n",
    "    browser.visit(url)\n",
    "    html = browser.html\n",
    "    full_image_soup = soup(html, 'html.parser')\n",
    "    full_link=full_image_soup.find('img',class_='wide-image').get('src')\n",
    "    img_rls=f\"https://astrogeology.usgs.gov{full_link}\"\n",
    "    image_title=full_image_soup.find('h2', class_='title').text\n",
    "    # print(full_link,image_title)\n",
    "    hemispheres[\"img_url\"]=img_rls\n",
    "    hemispheres[\"title\"]=image_title\n",
    "    hemispheres_images_urls.append(hemispheres)\n",
    "\n",
    "print(hemispheres_images_urls)\n",
    "    \n",
    "\n",
    "\n",
    "\n",
    "\n",
    "\n",
    "\n"
   ],
   "outputs": [
    {
     "output_type": "stream",
     "name": "stdout",
     "text": [
      "[{'img_url': 'https://astrogeology.usgs.gov/cache/images/f5e372a36edfa389625da6d0cc25d905_cerberus_enhanced.tif_full.jpg', 'title': 'Cerberus Hemisphere Enhanced'}, {'img_url': 'https://astrogeology.usgs.gov/cache/images/3778f7b43bbbc89d6e3cfabb3613ba93_schiaparelli_enhanced.tif_full.jpg', 'title': 'Schiaparelli Hemisphere Enhanced'}, {'img_url': 'https://astrogeology.usgs.gov/cache/images/555e6403a6ddd7ba16ddb0e471cadcf7_syrtis_major_enhanced.tif_full.jpg', 'title': 'Syrtis Major Hemisphere Enhanced'}, {'img_url': 'https://astrogeology.usgs.gov/cache/images/b3c7c6c9138f57b4756be9b9c43e3a48_valles_marineris_enhanced.tif_full.jpg', 'title': 'Valles Marineris Hemisphere Enhanced'}]\n"
     ]
    }
   ],
   "metadata": {}
  },
  {
   "cell_type": "code",
   "execution_count": 5,
   "source": [
    "# browser.visit(\"https://astrogeology.usgs.gov//search/map/Mars/Viking/cerberus_enhanced\")\n",
    "# html = browser.html\n",
    "# full_image_soup = soup(html, 'html.parser')\n",
    "# full_link=full_image_soup.find('img',class_='wide-image').get('src')\n",
    "# image_title=full_image_soup.find('h2', class_='title').text\n",
    "# print(full_link)\n",
    "# print(image_title)"
   ],
   "outputs": [],
   "metadata": {}
  },
  {
   "cell_type": "code",
   "execution_count": 6,
   "source": [
    "# for item in tags:\n",
    "#     hemispheres = {}\n",
    "#     full_image_elem = browser.find_by_tag('button')[1]\n",
    "#     full_image_elem.click()\n",
    "#     html = browser.html\n",
    "#     img_soup = soup(html, 'html.parser')\n",
    "#     img_url_rel = img_soup.find('img', class_='fancybox-image').get('src')\n",
    "#     img_url_rel\n",
    "#     img_url = f'https://spaceimages-mars.com/{img_url_rel}'\n",
    "#     img_url\n",
    "#     browser.back()\n"
   ],
   "outputs": [],
   "metadata": {}
  }
 ],
 "metadata": {
  "orig_nbformat": 4,
  "language_info": {
   "name": "python",
   "version": "3.8.10",
   "mimetype": "text/x-python",
   "codemirror_mode": {
    "name": "ipython",
    "version": 3
   },
   "pygments_lexer": "ipython3",
   "nbconvert_exporter": "python",
   "file_extension": ".py"
  },
  "kernelspec": {
   "name": "python3",
   "display_name": "Python 3.8.10 64-bit ('PyData': conda)"
  },
  "interpreter": {
   "hash": "882318a4dbb40408043b638165436726a199d58d7292987e09db31ac7eb8373e"
  }
 },
 "nbformat": 4,
 "nbformat_minor": 2
}